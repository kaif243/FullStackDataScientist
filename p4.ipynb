{
 "cells": [
  {
   "cell_type": "code",
   "execution_count": 2,
   "id": "223d4549",
   "metadata": {},
   "outputs": [
    {
     "name": "stdout",
     "output_type": "stream",
     "text": [
      "2 2\n"
     ]
    }
   ],
   "source": [
    "a=input()\n",
    "c,v=0,0\n",
    "for i in range(len(a)):\n",
    "    if a[i] in 'AEIOUaeiou':\n",
    "        v=v+1\n",
    "    elif a[i].isalpha():\n",
    "        c=c+1\n",
    "print(c,v)"
   ]
  }
 ],
 "metadata": {
  "kernelspec": {
   "display_name": "Python 3",
   "language": "python",
   "name": "python3"
  },
  "language_info": {
   "codemirror_mode": {
    "name": "ipython",
    "version": 3
   },
   "file_extension": ".py",
   "mimetype": "text/x-python",
   "name": "python",
   "nbconvert_exporter": "python",
   "pygments_lexer": "ipython3",
   "version": "3.11.0"
  }
 },
 "nbformat": 4,
 "nbformat_minor": 5
}
