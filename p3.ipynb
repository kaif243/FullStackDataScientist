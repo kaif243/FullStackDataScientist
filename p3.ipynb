{
 "cells": [
  {
   "cell_type": "code",
   "execution_count": 12,
   "id": "11ef526a",
   "metadata": {},
   "outputs": [
    {
     "name": "stdout",
     "output_type": "stream",
     "text": [
      "Not armstong\n"
     ]
    }
   ],
   "source": [
    "n=int(input())\n",
    "t=n\n",
    "l=len(str(t))\n",
    "s=0\n",
    "while n!=0:\n",
    "    s=s+(n%10)**l\n",
    "    n=n//10\n",
    "if(t==s):\n",
    "    print(\"Armstorng number\")\n",
    "else:\n",
    "    print(\"Not armstong\")"
   ]
  }
 ],
 "metadata": {
  "kernelspec": {
   "display_name": "Python 3",
   "language": "python",
   "name": "python3"
  },
  "language_info": {
   "codemirror_mode": {
    "name": "ipython",
    "version": 3
   },
   "file_extension": ".py",
   "mimetype": "text/x-python",
   "name": "python",
   "nbconvert_exporter": "python",
   "pygments_lexer": "ipython3",
   "version": "3.11.0"
  }
 },
 "nbformat": 4,
 "nbformat_minor": 5
}
